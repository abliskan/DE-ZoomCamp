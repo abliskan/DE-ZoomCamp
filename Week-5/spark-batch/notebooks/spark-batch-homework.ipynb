{
 "cells": [
  {
   "cell_type": "code",
   "execution_count": 2,
   "id": "fa40324d-766c-4df7-912c-9147ae036a35",
   "metadata": {},
   "outputs": [],
   "source": [
    "# import findspark\n",
    "# findspark.init()\n",
    "import pyspark\n",
    "from pyspark.sql import SparkSession\n",
    "from pyspark.sql.types import *\n",
    "from pyspark.sql.functions import *\n",
    "from pyspark.sql import functions as F\n",
    "from pyspark import SparkFiles"
   ]
  },
  {
   "cell_type": "code",
   "execution_count": 3,
   "id": "97d0c7cc-ed95-4395-9978-6596ae662c7c",
   "metadata": {},
   "outputs": [
    {
     "name": "stdout",
     "output_type": "stream",
     "text": [
      "The current spark version is 3.5.0\n"
     ]
    }
   ],
   "source": [
    "spark = SparkSession.builder \\\n",
    "    .appName(\"NYC-Taxi-Tripdata-2024\") \\\n",
    "    .config(\"spark.driver.memory\", \"4g\") \\\n",
    "    .master(\"local\") \\\n",
    "    .getOrCreate()\n",
    "\n",
    "print(f'The current spark version is {spark.version}')"
   ]
  },
  {
   "cell_type": "code",
   "execution_count": null,
   "id": "155d946f-d08a-44b2-ad5e-1e695a1456be",
   "metadata": {},
   "outputs": [],
   "source": [
    "# ------------ Yellow NYC Taxi Trip ------------ #"
   ]
  },
  {
   "cell_type": "code",
   "execution_count": null,
   "id": "6e184ec0-16c0-4dfc-8dba-bdc1519edc80",
   "metadata": {},
   "outputs": [],
   "source": [
    "!wget https://d37ci6vzurychx.cloudfront.net/trip-data/yellow_tripdata_2024-10.parquet"
   ]
  },
  {
   "cell_type": "code",
   "execution_count": null,
   "id": "828828a2-26c6-4726-b91b-51975376990a",
   "metadata": {},
   "outputs": [],
   "source": [
    "# file_url = 'https://d37ci6vzurychx.cloudfront.net/trip-data/yellow_tripdata_2024-10.parquet'\n",
    "df_yellow_dataset = spark.read.parquet('yellow_tripdata_2024-10.parquet')"
   ]
  },
  {
   "cell_type": "code",
   "execution_count": null,
   "id": "3931fcec-7c99-4c60-ac6e-b8a704fd0aaf",
   "metadata": {},
   "outputs": [],
   "source": [
    "#2 question"
   ]
  },
  {
   "cell_type": "code",
   "execution_count": null,
   "id": "7c7f17ee-bbb5-4a14-b673-c45387660807",
   "metadata": {},
   "outputs": [],
   "source": [
    "df_yellow_dataset \\\n",
    "    .repartition(4) \\\n",
    "    .write \\\n",
    "    .parquet('data/pq/parition/yellow/4/', mode='overwrite')"
   ]
  },
  {
   "cell_type": "code",
   "execution_count": null,
   "id": "7174197d-9fc5-4dc8-ae60-e125042fb3cb",
   "metadata": {},
   "outputs": [],
   "source": [
    "#3 question"
   ]
  },
  {
   "cell_type": "code",
   "execution_count": null,
   "id": "18783797-7b52-4790-aca8-a3705c0fa5ac",
   "metadata": {},
   "outputs": [],
   "source": [
    "df_pq \\\n",
    "    .withColumn('pickup_date', F.to_date(df_pq.tpep_pickup_datetime)) \\\n",
    "    .withColumn('dropoff_datetime', F.to_date(df_pq.tpep_dropoff_datetime)) \\\n",
    "    .filter(\"pickup_date = '2024-10-15'\") \\\n",
    "    .count()"
   ]
  },
  {
   "cell_type": "code",
   "execution_count": null,
   "id": "1667a5ab-43c7-488e-be28-3c9ae198369d",
   "metadata": {},
   "outputs": [],
   "source": [
    "#4 question"
   ]
  },
  {
   "cell_type": "code",
   "execution_count": null,
   "id": "793ddc0c-7ba3-4bed-a373-5e3093cd8e8b",
   "metadata": {},
   "outputs": [],
   "source": [
    "df_test = df_pq.withColumn(\"trip_duration_hours\", \n",
    "                   (F.to_timestamp((unix_timestamp(\"tpep_dropoff_datetime\"))) - F.to_timestamp((unix_timestamp(\"tpep_pickup_datetime\")))))\n",
    "\n",
    "# Find the longest trip duration\n",
    "max_duration = df_test.agg(max(\"trip_duration_hours\")).collect()[0][0]\n",
    "\n",
    "print(f\"Longest trip duration in hours: {max_duration}\")"
   ]
  },
  {
   "cell_type": "code",
   "execution_count": null,
   "id": "7bdcdf3d-d509-42cd-8455-8c03e9b7d667",
   "metadata": {},
   "outputs": [],
   "source": [
    "#6 question"
   ]
  },
  {
   "cell_type": "code",
   "execution_count": 4,
   "id": "75320fb1-c094-468a-84b2-d4323b7397e8",
   "metadata": {},
   "outputs": [],
   "source": [
    "# ------------ NYC Taxi Zone ------------ #"
   ]
  },
  {
   "cell_type": "code",
   "execution_count": null,
   "id": "e86e931c-9ad7-4685-b6d0-252784a0010c",
   "metadata": {},
   "outputs": [],
   "source": [
    "!wget https://d37ci6vzurychx.cloudfront.net/misc/taxi_zone_lookup.csv"
   ]
  },
  {
   "cell_type": "code",
   "execution_count": null,
   "id": "e0bea142-d540-4caa-b926-e01b09014796",
   "metadata": {},
   "outputs": [],
   "source": [
    "# Write csv file as parquet file\n",
    "df_taxi_zone_lookup = spark.read.csv(\"taxi_zone_lookup.csv\", header=True, inferSchema=True)"
   ]
  },
  {
   "cell_type": "code",
   "execution_count": null,
   "id": "1411eac0-74de-4d6c-9d17-ce544b1b9438",
   "metadata": {},
   "outputs": [],
   "source": [
    "# Save as parquet file\n",
    "df_taxi_zone_lookup.write.mode(\"overwrite\").parquet(\"parquet/taxi_zone_lookup\")"
   ]
  },
  {
   "cell_type": "code",
   "execution_count": null,
   "id": "26a931fb-f6d0-4dc5-83f0-890a33503eb2",
   "metadata": {},
   "outputs": [],
   "source": [
    "# Show the schema and sample data\n",
    "print(\"Schema:\")\n",
    "df_taxi_zone_lookup.printSchema()"
   ]
  },
  {
   "cell_type": "code",
   "execution_count": null,
   "id": "f84794d3-a976-4df4-a202-d6b3327a0ee7",
   "metadata": {},
   "outputs": [],
   "source": [
    "df_pq.createOrReplaceTempView('yellow_tripdata')\n",
    "df_taxi_zone_lookup.createOrReplaceTempView('zone')"
   ]
  },
  {
   "cell_type": "code",
   "execution_count": null,
   "id": "4065c156-381e-46b2-ab60-4a3dd9c85a3b",
   "metadata": {},
   "outputs": [],
   "source": [
    "least_pickup_id = spark.sql(\"\"\"\n",
    "SELECT PULocationID, number FROM (\n",
    "    SELECT \n",
    "        PULocationID,\n",
    "        COUNT(PULocationID) as number\n",
    "    FROM\n",
    "        yellow_tripdata\n",
    "    GROUP BY\n",
    "        PULocationID\n",
    ") t\n",
    "ORDER BY number ASC\n",
    "LIMIT 1\n",
    "\"\"\")"
   ]
  },
  {
   "cell_type": "code",
   "execution_count": null,
   "id": "55d66337-21ea-4ef3-a596-db5c2e4162f8",
   "metadata": {},
   "outputs": [],
   "source": [
    "least_pickup_zone.createOrReplaceTempView('least_pickup_zone')"
   ]
  },
  {
   "cell_type": "code",
   "execution_count": null,
   "id": "971d3482-de5a-41dd-9bb8-eff706eecbbb",
   "metadata": {},
   "outputs": [],
   "source": [
    "spark.sql(\"\"\"\n",
    "SELECT \n",
    "    LocationID,\n",
    "    Zone\n",
    "FROM\n",
    "    zone z \n",
    "JOIN least_pickup_zone lpu\n",
    "ON z.LocationID = lpu.PULocationID\n",
    "\"\"\").show()"
   ]
  }
 ],
 "metadata": {
  "kernelspec": {
   "display_name": "Python 3 (ipykernel)",
   "language": "python",
   "name": "python3"
  },
  "language_info": {
   "codemirror_mode": {
    "name": "ipython",
    "version": 3
   },
   "file_extension": ".py",
   "mimetype": "text/x-python",
   "name": "python",
   "nbconvert_exporter": "python",
   "pygments_lexer": "ipython3",
   "version": "3.11.6"
  }
 },
 "nbformat": 4,
 "nbformat_minor": 5
}
