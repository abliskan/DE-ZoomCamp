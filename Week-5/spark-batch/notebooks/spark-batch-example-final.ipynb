{
 "cells": [
  {
   "cell_type": "code",
   "execution_count": 1,
   "id": "0d49291b-5822-459a-9b4c-94d9105c67e1",
   "metadata": {},
   "outputs": [],
   "source": [
    "## Introduction to spark/pysprak"
   ]
  },
  {
   "cell_type": "code",
   "execution_count": 2,
   "id": "df9f1ccc-b71c-40ad-8d42-2aa2da3a64cd",
   "metadata": {},
   "outputs": [],
   "source": [
    "# import findspark\n",
    "# findspark.init()\n",
    "import pyspark\n",
    "from pyspark.sql import SparkSession\n",
    "from pyspark.sql.types import *\n",
    "from pyspark.sql.functions import *\n",
    "from pyspark.sql import functions as F\n",
    "from pyspark import SparkFiles"
   ]
  },
  {
   "cell_type": "code",
   "execution_count": 3,
   "id": "54b08e3d-63c1-4127-957a-fb7502055fba",
   "metadata": {},
   "outputs": [
    {
     "name": "stdout",
     "output_type": "stream",
     "text": [
      "The current spark version is 3.5.0\n"
     ]
    }
   ],
   "source": [
    "spark = SparkSession.builder \\\n",
    "    .appName(\"NYC-data-processing\") \\\n",
    "    .config(\"spark.driver.memory\", \"4g\") \\\n",
    "    .master(\"local\") \\\n",
    "    .getOrCreate()\n",
    "\n",
    "print(f'The current spark version is {spark.version}')"
   ]
  },
  {
   "cell_type": "code",
   "execution_count": 70,
   "id": "0f59b442-e507-496b-a65e-eb91e0461dae",
   "metadata": {},
   "outputs": [],
   "source": [
    "# ------------ Yellow NYC Taxi Trip ------------ #"
   ]
  },
  {
   "cell_type": "code",
   "execution_count": 4,
   "id": "41a2eb75-c692-4814-b8b9-38ed66cbd717",
   "metadata": {},
   "outputs": [
    {
     "name": "stdout",
     "output_type": "stream",
     "text": [
      "--2025-03-07 13:36:01--  https://d37ci6vzurychx.cloudfront.net/trip-data/yellow_tripdata_2024-10.parquet\n",
      "Resolving d37ci6vzurychx.cloudfront.net (d37ci6vzurychx.cloudfront.net)... 108.157.184.33, 108.157.184.174, 108.157.184.53, ...\n",
      "Connecting to d37ci6vzurychx.cloudfront.net (d37ci6vzurychx.cloudfront.net)|108.157.184.33|:443... connected.\n",
      "HTTP request sent, awaiting response... 200 OK\n",
      "Length: 64346071 (61M) [binary/octet-stream]\n",
      "Saving to: ‘yellow_tripdata_2024-10.parquet’\n",
      "\n",
      "yellow_tripdata_202 100%[===================>]  61.36M  2.98MB/s    in 25s     \n",
      "\n",
      "2025-03-07 13:36:27 (2.46 MB/s) - ‘yellow_tripdata_2024-10.parquet’ saved [64346071/64346071]\n",
      "\n"
     ]
    }
   ],
   "source": [
    "!wget https://d37ci6vzurychx.cloudfront.net/trip-data/yellow_tripdata_2024-10.parquet"
   ]
  },
  {
   "cell_type": "code",
   "execution_count": 5,
   "id": "951c3ccd-8a79-4c0f-b374-57449ce1963d",
   "metadata": {},
   "outputs": [],
   "source": [
    "# file_url = 'https://d37ci6vzurychx.cloudfront.net/trip-data/yellow_tripdata_2024-10.parquet'\n",
    "df_yellow_dataset = spark.read.parquet('yellow_tripdata_2024-10.parquet')"
   ]
  },
  {
   "cell_type": "code",
   "execution_count": 6,
   "id": "c69a1d7a-decd-4281-99af-ced628ea9753",
   "metadata": {},
   "outputs": [
    {
     "name": "stdout",
     "output_type": "stream",
     "text": [
      "Schema:\n",
      "root\n",
      " |-- VendorID: integer (nullable = true)\n",
      " |-- tpep_pickup_datetime: timestamp_ntz (nullable = true)\n",
      " |-- tpep_dropoff_datetime: timestamp_ntz (nullable = true)\n",
      " |-- passenger_count: long (nullable = true)\n",
      " |-- trip_distance: double (nullable = true)\n",
      " |-- RatecodeID: long (nullable = true)\n",
      " |-- store_and_fwd_flag: string (nullable = true)\n",
      " |-- PULocationID: integer (nullable = true)\n",
      " |-- DOLocationID: integer (nullable = true)\n",
      " |-- payment_type: long (nullable = true)\n",
      " |-- fare_amount: double (nullable = true)\n",
      " |-- extra: double (nullable = true)\n",
      " |-- mta_tax: double (nullable = true)\n",
      " |-- tip_amount: double (nullable = true)\n",
      " |-- tolls_amount: double (nullable = true)\n",
      " |-- improvement_surcharge: double (nullable = true)\n",
      " |-- total_amount: double (nullable = true)\n",
      " |-- congestion_surcharge: double (nullable = true)\n",
      " |-- Airport_fee: double (nullable = true)\n",
      "\n"
     ]
    }
   ],
   "source": [
    "# Show the schema and sample data\n",
    "print(\"Schema:\")\n",
    "df_yellow_dataset.printSchema()"
   ]
  },
  {
   "cell_type": "code",
   "execution_count": 7,
   "id": "059c1a70-0f66-4203-9197-3fd49744ca7e",
   "metadata": {},
   "outputs": [
    {
     "name": "stdout",
     "output_type": "stream",
     "text": [
      "\n",
      "Sample data:\n",
      "+--------+--------------------+---------------------+---------------+-------------+----------+------------------+------------+------------+------------+-----------+-----+-------+----------+------------+---------------------+------------+--------------------+-----------+\n",
      "|VendorID|tpep_pickup_datetime|tpep_dropoff_datetime|passenger_count|trip_distance|RatecodeID|store_and_fwd_flag|PULocationID|DOLocationID|payment_type|fare_amount|extra|mta_tax|tip_amount|tolls_amount|improvement_surcharge|total_amount|congestion_surcharge|Airport_fee|\n",
      "+--------+--------------------+---------------------+---------------+-------------+----------+------------------+------------+------------+------------+-----------+-----+-------+----------+------------+---------------------+------------+--------------------+-----------+\n",
      "|2       |2024-10-01 00:30:44 |2024-10-01 00:48:26  |1              |3.0          |1         |N                 |162         |246         |1           |18.4       |1.0  |0.5    |1.5       |0.0         |1.0                  |24.9        |2.5                 |0.0        |\n",
      "|1       |2024-10-01 00:12:20 |2024-10-01 00:25:25  |1              |2.2          |1         |N                 |48          |236         |1           |14.2       |3.5  |0.5    |3.8       |0.0         |1.0                  |23.0        |2.5                 |0.0        |\n",
      "|1       |2024-10-01 00:04:46 |2024-10-01 00:13:52  |1              |2.7          |1         |N                 |142         |24          |1           |13.5       |3.5  |0.5    |3.7       |0.0         |1.0                  |22.2        |2.5                 |0.0        |\n",
      "|1       |2024-10-01 00:12:10 |2024-10-01 00:23:01  |1              |3.1          |1         |N                 |233         |75          |1           |14.2       |3.5  |0.5    |2.0       |0.0         |1.0                  |21.2        |2.5                 |0.0        |\n",
      "|1       |2024-10-01 00:30:22 |2024-10-01 00:30:39  |1              |0.0          |1         |N                 |262         |262         |3           |3.0        |3.5  |0.5    |0.0       |0.0         |1.0                  |8.0         |2.5                 |0.0        |\n",
      "+--------+--------------------+---------------------+---------------+-------------+----------+------------------+------------+------------+------------+-----------+-----+-------+----------+------------+---------------------+------------+--------------------+-----------+\n",
      "only showing top 5 rows\n",
      "\n"
     ]
    }
   ],
   "source": [
    "print(\"\\nSample data:\")\n",
    "df_yellow_dataset.show(5, truncate=False)"
   ]
  },
  {
   "cell_type": "code",
   "execution_count": 8,
   "id": "2c313e63-2a39-44a5-8a42-01b6a6b425e2",
   "metadata": {},
   "outputs": [
    {
     "name": "stdout",
     "output_type": "stream",
     "text": [
      "+--------+--------------------+---------------------+---------------+\n",
      "|VendorID|tpep_pickup_datetime|tpep_dropoff_datetime|passenger_count|\n",
      "+--------+--------------------+---------------------+---------------+\n",
      "|       2|          2024-10-01|           2024-10-01|              1|\n",
      "|       1|          2024-10-01|           2024-10-01|              1|\n",
      "|       1|          2024-10-01|           2024-10-01|              1|\n",
      "|       1|          2024-10-01|           2024-10-01|              1|\n",
      "|       1|          2024-10-01|           2024-10-01|              1|\n",
      "|       2|          2024-10-01|           2024-10-01|              2|\n",
      "|       1|          2024-10-01|           2024-10-01|              1|\n",
      "|       1|          2024-10-01|           2024-10-01|              1|\n",
      "|       1|          2024-10-01|           2024-10-01|              0|\n",
      "|       1|          2024-10-01|           2024-10-01|              1|\n",
      "|       1|          2024-10-01|           2024-10-01|              1|\n",
      "|       2|          2024-10-01|           2024-10-01|              1|\n",
      "|       2|          2024-10-01|           2024-10-01|              1|\n",
      "|       2|          2024-10-01|           2024-10-01|              1|\n",
      "|       2|          2024-09-30|           2024-10-01|              1|\n",
      "|       1|          2024-10-01|           2024-10-01|              1|\n",
      "|       1|          2024-10-01|           2024-10-01|              1|\n",
      "|       2|          2024-10-01|           2024-10-01|              2|\n",
      "|       2|          2024-10-01|           2024-10-01|              2|\n",
      "|       2|          2024-10-01|           2024-10-01|              1|\n",
      "+--------+--------------------+---------------------+---------------+\n",
      "only showing top 20 rows\n",
      "\n"
     ]
    }
   ],
   "source": [
    "# Change timestamp_ntz into datetime\n",
    "df_yellow_dataset \\\n",
    "    .withColumn('tpep_pickup_datetime', F.to_date(df_yellow_dataset.tpep_pickup_datetime)) \\\n",
    "    .withColumn('tpep_dropoff_datetime', F.to_date(df_yellow_dataset.tpep_dropoff_datetime)) \\\n",
    "    .select('VendorID', 'tpep_pickup_datetime', 'tpep_dropoff_datetime', 'passenger_count') \\\n",
    "    .show()"
   ]
  },
  {
   "cell_type": "code",
   "execution_count": 9,
   "id": "539d4a79-eff7-4371-bba1-a1bdb24a78e7",
   "metadata": {},
   "outputs": [],
   "source": [
    "import pandas as pd"
   ]
  },
  {
   "cell_type": "code",
   "execution_count": 10,
   "id": "eed5fc4a-9bff-40da-8bc2-d6fb0b624de3",
   "metadata": {},
   "outputs": [],
   "source": [
    "# Convert Parquet to CSV\n",
    "def parquet_to_csv(parquet_path, csv_path='output.csv'):\n",
    "    # Read Parquet\n",
    "    df_yellow_dataset_parquet = pd.read_parquet('yellow_tripdata_2024-10.parquet')\n",
    "\n",
    "    # Save as CSV\n",
    "    df_yellow_dataset_parquet.to_csv('yellow_tripdata_2024-10.csv', index=False)\n",
    "    print(f\"Data saved to: {'yellow_tripdata_2024-10.csv'}\")"
   ]
  },
  {
   "cell_type": "code",
   "execution_count": 11,
   "id": "bdb5193b-d921-4d2d-902c-45956017a5d9",
   "metadata": {},
   "outputs": [
    {
     "name": "stdout",
     "output_type": "stream",
     "text": [
      "Data saved to: yellow_tripdata_2024-10.csv\n"
     ]
    }
   ],
   "source": [
    "parquet_to_csv('sample.parquet', 'sample.csv')"
   ]
  },
  {
   "cell_type": "code",
   "execution_count": 12,
   "id": "6957b894-f5fb-4a63-8961-76b9e7c1269e",
   "metadata": {},
   "outputs": [],
   "source": [
    "from pyspark.sql import types"
   ]
  },
  {
   "cell_type": "code",
   "execution_count": 101,
   "id": "406066be-64e3-4f1f-a867-b0eff2966bda",
   "metadata": {},
   "outputs": [],
   "source": [
    "yellow_schema = types.StructType([\n",
    "    types.StructField(\"VendorID\", types.IntegerType(), True),\n",
    "    types.StructField(\"tpep_pickup_datetime\", types.TimestampType(), True),\n",
    "    types.StructField(\"tpep_dropoff_datetime\", types.TimestampType(), True),\n",
    "    types.StructField(\"passenger_count\", types.IntegerType(), True),\n",
    "    types.StructField(\"trip_distance\", types.DoubleType(), True),\n",
    "    types.StructField(\"RatecodeID\", types.IntegerType(), True),\n",
    "    types.StructField(\"store_and_fwd_flag\", types.StringType(), True),\n",
    "    types.StructField(\"PULocationID\", types.IntegerType(), True),\n",
    "    types.StructField(\"DOLocationID\", types.IntegerType(), True),\n",
    "    types.StructField(\"payment_type\", types.IntegerType(), True),\n",
    "    types.StructField(\"fare_amount\", types.DoubleType(), True),\n",
    "    types.StructField(\"extra\", types.DoubleType(), True),\n",
    "    types.StructField(\"mta_tax\", types.DoubleType(), True),\n",
    "    types.StructField(\"tip_amount\", types.DoubleType(), True),\n",
    "    types.StructField(\"tolls_amount\", types.DoubleType(), True),\n",
    "    types.StructField(\"improvement_surcharge\", types.DoubleType(), True),\n",
    "    types.StructField(\"total_amount\", types.DoubleType(), True),\n",
    "    types.StructField(\"congestion_surcharge\", types.DoubleType(), True)\n",
    "])"
   ]
  },
  {
   "cell_type": "code",
   "execution_count": 102,
   "id": "42bc7c4c-67d4-4fc8-8270-5efed4fd7f2d",
   "metadata": {},
   "outputs": [
    {
     "name": "stdout",
     "output_type": "stream",
     "text": [
      "+--------+--------------------+---------------------+---------------+-------------+----------+------------------+------------+------------+------------+-----------+-----+-------+----------+------------+---------------------+------------+--------------------+\n",
      "|VendorID|tpep_pickup_datetime|tpep_dropoff_datetime|passenger_count|trip_distance|RatecodeID|store_and_fwd_flag|PULocationID|DOLocationID|payment_type|fare_amount|extra|mta_tax|tip_amount|tolls_amount|improvement_surcharge|total_amount|congestion_surcharge|\n",
      "+--------+--------------------+---------------------+---------------+-------------+----------+------------------+------------+------------+------------+-----------+-----+-------+----------+------------+---------------------+------------+--------------------+\n",
      "|       2| 2024-10-01 00:30:44|  2024-10-01 00:48:26|           NULL|          3.0|      NULL|                 N|         162|         246|           1|       18.4|  1.0|    0.5|       1.5|         0.0|                  1.0|        24.9|                 2.5|\n",
      "|       1| 2024-10-01 00:12:20|  2024-10-01 00:25:25|           NULL|          2.2|      NULL|                 N|          48|         236|           1|       14.2|  3.5|    0.5|       3.8|         0.0|                  1.0|        23.0|                 2.5|\n",
      "|       1| 2024-10-01 00:04:46|  2024-10-01 00:13:52|           NULL|          2.7|      NULL|                 N|         142|          24|           1|       13.5|  3.5|    0.5|       3.7|         0.0|                  1.0|        22.2|                 2.5|\n",
      "|       1| 2024-10-01 00:12:10|  2024-10-01 00:23:01|           NULL|          3.1|      NULL|                 N|         233|          75|           1|       14.2|  3.5|    0.5|       2.0|         0.0|                  1.0|        21.2|                 2.5|\n",
      "|       1| 2024-10-01 00:30:22|  2024-10-01 00:30:39|           NULL|          0.0|      NULL|                 N|         262|         262|           3|        3.0|  3.5|    0.5|       0.0|         0.0|                  1.0|         8.0|                 2.5|\n",
      "|       2| 2024-10-01 00:31:20|  2024-10-01 00:36:00|           NULL|         0.97|      NULL|                 N|         137|         137|           1|        7.2|  1.0|    0.5|      2.44|         0.0|                  1.0|       14.64|                 2.5|\n",
      "|       1| 2024-10-01 00:42:57|  2024-10-01 00:49:01|           NULL|          1.3|      NULL|                 N|         142|          48|           1|        7.9|  3.5|    0.5|      2.55|         0.0|                  1.0|       15.45|                 2.5|\n",
      "|       1| 2024-10-01 00:59:55|  2024-10-01 01:02:24|           NULL|          0.5|      NULL|                 N|         230|         161|           1|        5.1|  3.5|    0.5|       2.0|         0.0|                  1.0|        12.1|                 2.5|\n",
      "|       1| 2024-10-01 00:00:47|  2024-10-01 00:04:22|           NULL|          1.1|      NULL|                 N|         142|         237|           1|        7.2|  3.5|    0.5|       3.0|         0.0|                  1.0|        15.2|                 2.5|\n",
      "|       1| 2024-10-01 00:17:36|  2024-10-01 00:26:22|           NULL|          2.2|      NULL|                 N|         162|         145|           1|       11.4|  3.5|    0.5|       3.3|         0.0|                  1.0|        19.7|                 2.5|\n",
      "|       1| 2024-10-01 00:49:00|  2024-10-01 00:52:20|           NULL|          0.6|      NULL|                 N|         229|         162|           1|        5.1|  3.5|    0.5|       2.0|         0.0|                  1.0|        12.1|                 2.5|\n",
      "|       2| 2024-10-01 00:07:26|  2024-10-01 00:13:20|           NULL|          0.9|      NULL|                 N|         162|         162|           1|        7.9|  1.0|    0.5|      3.87|         0.0|                  1.0|       16.77|                 2.5|\n",
      "|       2| 2024-10-01 00:17:11|  2024-10-01 00:25:00|           NULL|         1.33|      NULL|                 N|         162|         230|           1|        9.3|  1.0|    0.5|       2.0|         0.0|                  1.0|        16.3|                 2.5|\n",
      "|       2| 2024-10-01 00:00:34|  2024-10-01 00:05:13|           NULL|         1.79|      NULL|                 N|         211|         234|           1|        9.3|  1.0|    0.5|      2.86|         0.0|                  1.0|       17.16|                 2.5|\n",
      "|       2| 2024-09-30 23:58:40|  2024-10-01 00:20:26|           NULL|         5.16|      NULL|                 N|         142|           7|           1|       24.7|  1.0|    0.5|       0.0|         0.0|                  1.0|        29.7|                 2.5|\n",
      "|       1| 2024-10-01 00:55:29|  2024-10-01 01:42:35|           NULL|         11.3|      NULL|                 N|         161|         197|           1|       39.5|  0.0|    0.5|       0.0|        6.94|                  1.0|       47.94|                 0.0|\n",
      "|       1| 2024-10-01 00:08:59|  2024-10-01 00:40:58|           NULL|         20.6|      NULL|                 N|         132|         243|           2|       76.5| 2.75|    0.5|       0.0|        6.94|                  1.0|       87.69|                 0.0|\n",
      "|       2| 2024-10-01 00:18:38|  2024-10-01 00:36:47|           NULL|         7.42|      NULL|                 N|         239|         247|           4|      -33.1| -1.0|   -0.5|       0.0|         0.0|                 -1.0|       -38.1|                -2.5|\n",
      "|       2| 2024-10-01 00:18:38|  2024-10-01 00:36:47|           NULL|         7.42|      NULL|                 N|         239|         247|           4|       33.1|  1.0|    0.5|       0.0|         0.0|                  1.0|        38.1|                 2.5|\n",
      "|       2| 2024-10-01 00:39:33|  2024-10-01 00:53:59|           NULL|         4.49|      NULL|                 N|         247|          60|           2|       21.9|  1.0|    0.5|       0.0|         0.0|                  1.0|        24.4|                 0.0|\n",
      "+--------+--------------------+---------------------+---------------+-------------+----------+------------------+------------+------------+------------+-----------+-----+-------+----------+------------+---------------------+------------+--------------------+\n",
      "only showing top 20 rows\n",
      "\n"
     ]
    }
   ],
   "source": [
    "df_yellow_dataset_csv = spark.read \\\n",
    "                             .option(\"header\", \"true\") \\\n",
    "                             .schema(yellow_schema) \\\n",
    "                             .csv('yellow_tripdata_2024-10.csv')\n",
    "df_yellow_dataset_csv.show()"
   ]
  },
  {
   "cell_type": "code",
   "execution_count": 103,
   "id": "9b13cec2-a7f5-435a-bb46-e6d9928d5f0c",
   "metadata": {},
   "outputs": [
    {
     "name": "stdout",
     "output_type": "stream",
     "text": [
      "+--------+-----------+------------+------------+------------+\n",
      "|vendorid|pickup_date|dropoff_date|PULocationID|DOLocationID|\n",
      "+--------+-----------+------------+------------+------------+\n",
      "|       2| 2024-10-01|  2024-10-01|         162|         246|\n",
      "|       1| 2024-10-01|  2024-10-01|          48|         236|\n",
      "|       1| 2024-10-01|  2024-10-01|         142|          24|\n",
      "|       1| 2024-10-01|  2024-10-01|         233|          75|\n",
      "|       1| 2024-10-01|  2024-10-01|         262|         262|\n",
      "|       2| 2024-10-01|  2024-10-01|         137|         137|\n",
      "|       1| 2024-10-01|  2024-10-01|         142|          48|\n",
      "|       1| 2024-10-01|  2024-10-01|         230|         161|\n",
      "|       1| 2024-10-01|  2024-10-01|         142|         237|\n",
      "|       1| 2024-10-01|  2024-10-01|         162|         145|\n",
      "|       1| 2024-10-01|  2024-10-01|         229|         162|\n",
      "|       2| 2024-10-01|  2024-10-01|         162|         162|\n",
      "|       2| 2024-10-01|  2024-10-01|         162|         230|\n",
      "|       2| 2024-10-01|  2024-10-01|         211|         234|\n",
      "|       2| 2024-09-30|  2024-10-01|         142|           7|\n",
      "|       1| 2024-10-01|  2024-10-01|         161|         197|\n",
      "|       1| 2024-10-01|  2024-10-01|         132|         243|\n",
      "|       2| 2024-10-01|  2024-10-01|         239|         247|\n",
      "|       2| 2024-10-01|  2024-10-01|         239|         247|\n",
      "|       2| 2024-10-01|  2024-10-01|         247|          60|\n",
      "+--------+-----------+------------+------------+------------+\n",
      "only showing top 20 rows\n",
      "\n"
     ]
    }
   ],
   "source": [
    "df_converted_csv = df_yellow_dataset_parquet \\\n",
    "    .withColumn('pickup_date', F.to_date(df_yellow_dataset_csv.tpep_pickup_datetime)) \\\n",
    "    .withColumn('dropoff_date', F.to_date(df_yellow_dataset_csv.tpep_dropoff_datetime)) \\\n",
    "    .select('vendorid', 'pickup_date', 'dropoff_date', 'PULocationID', 'DOLocationID') \\\n",
    "    .show()"
   ]
  },
  {
   "cell_type": "code",
   "execution_count": 105,
   "id": "89cb4645-1b31-491c-bac9-e35364435e6d",
   "metadata": {},
   "outputs": [],
   "source": [
    "df_yellow_dataset.write.parquet('data/pq/yellow_tripdata/2024/10/', mode='overwrite')"
   ]
  },
  {
   "cell_type": "code",
   "execution_count": 106,
   "id": "39696150-5c50-44ba-a92a-c29bbadb96a6",
   "metadata": {},
   "outputs": [],
   "source": [
    "df_pq = spark.read.parquet('data/pq/yellow_tripdata/2024/10/')"
   ]
  },
  {
   "cell_type": "code",
   "execution_count": 107,
   "id": "1a4142be-a477-40a7-9659-3d754b77f694",
   "metadata": {},
   "outputs": [
    {
     "data": {
      "text/plain": [
       "128893"
      ]
     },
     "execution_count": 107,
     "metadata": {},
     "output_type": "execute_result"
    }
   ],
   "source": [
    "df_pq \\\n",
    "    .withColumn('pickup_date', F.to_date(df_pq.tpep_pickup_datetime)) \\\n",
    "    .withColumn('dropoff_datetime', F.to_date(df_pq.tpep_dropoff_datetime)) \\\n",
    "    .filter(\"pickup_date = '2024-10-15'\") \\\n",
    "    .count()"
   ]
  },
  {
   "cell_type": "code",
   "execution_count": 18,
   "id": "aa6cbd7f-7a66-437f-968d-72cf9ce0c587",
   "metadata": {},
   "outputs": [],
   "source": [
    "# Spark/Pyspark DataFrames"
   ]
  },
  {
   "cell_type": "code",
   "execution_count": 26,
   "id": "44ca70c7-477b-4d6a-bef3-50574c7aebc9",
   "metadata": {},
   "outputs": [],
   "source": [
    "def crazy_stuff(base_num):\n",
    "    num = int(base_num[1:])\n",
    "    if num % 7 == 0:\n",
    "        return f's/{num:03x}'\n",
    "    elif num % 3 == 0:\n",
    "        return f'a/{num:03x}'\n",
    "    return f'e/{num:03x}'\n",
    "\n",
    "crazy_stuff_udf = F.udf(crazy_stuff, returnType=types.StringType())"
   ]
  },
  {
   "cell_type": "code",
   "execution_count": 20,
   "id": "0d7b786b-2d59-4a50-85cd-0f8256e6693c",
   "metadata": {},
   "outputs": [],
   "source": [
    "# Spark/PySpark SQL"
   ]
  },
  {
   "cell_type": "code",
   "execution_count": 21,
   "id": "5fa7db74-7bdc-4ff9-aa15-2e813eb994f7",
   "metadata": {},
   "outputs": [
    {
     "name": "stdout",
     "output_type": "stream",
     "text": [
      "--2025-03-07 13:40:15--  https://d37ci6vzurychx.cloudfront.net/misc/taxi_zone_lookup.csv\n",
      "Resolving d37ci6vzurychx.cloudfront.net (d37ci6vzurychx.cloudfront.net)... 108.157.184.223, 108.157.184.53, 108.157.184.174, ...\n",
      "Connecting to d37ci6vzurychx.cloudfront.net (d37ci6vzurychx.cloudfront.net)|108.157.184.223|:443... connected.\n",
      "HTTP request sent, awaiting response... 200 OK\n",
      "Length: 12331 (12K) [text/csv]\n",
      "Saving to: ‘taxi_zone_lookup.csv’\n",
      "\n",
      "taxi_zone_lookup.cs 100%[===================>]  12.04K  --.-KB/s    in 0s      \n",
      "\n",
      "2025-03-07 13:40:16 (369 MB/s) - ‘taxi_zone_lookup.csv’ saved [12331/12331]\n",
      "\n"
     ]
    }
   ],
   "source": [
    "!wget https://d37ci6vzurychx.cloudfront.net/misc/taxi_zone_lookup.csv"
   ]
  },
  {
   "cell_type": "code",
   "execution_count": 22,
   "id": "07f6b320-9b41-4a6e-8513-ba62c086c038",
   "metadata": {},
   "outputs": [],
   "source": [
    "# Write csv file as parquet file\n",
    "df_taxi_zone_lookup = spark.read.csv(\"taxi_zone_lookup.csv\", header=True, inferSchema=True)"
   ]
  },
  {
   "cell_type": "code",
   "execution_count": 23,
   "id": "a0722325-cae0-4459-aba4-29796b1349be",
   "metadata": {},
   "outputs": [],
   "source": [
    "# Save as parquet file\n",
    "df_taxi_zone_lookup.write.mode(\"overwrite\").parquet(\"parquet/taxi_zone_lookup\")"
   ]
  },
  {
   "cell_type": "code",
   "execution_count": 24,
   "id": "59fc0385-cdb8-4daa-813e-8f2203def520",
   "metadata": {},
   "outputs": [
    {
     "name": "stdout",
     "output_type": "stream",
     "text": [
      "Schema:\n",
      "root\n",
      " |-- LocationID: integer (nullable = true)\n",
      " |-- Borough: string (nullable = true)\n",
      " |-- Zone: string (nullable = true)\n",
      " |-- service_zone: string (nullable = true)\n",
      "\n"
     ]
    }
   ],
   "source": [
    "# Show the schema and sample data\n",
    "print(\"Schema:\")\n",
    "df_taxi_zone_lookup.printSchema()"
   ]
  },
  {
   "cell_type": "code",
   "execution_count": 28,
   "id": "f527b3c8-28b5-4d68-9b47-c7a7d35ae515",
   "metadata": {},
   "outputs": [
    {
     "data": {
      "text/plain": [
       "['VendorID',\n",
       " 'tpep_pickup_datetime',\n",
       " 'tpep_dropoff_datetime',\n",
       " 'passenger_count',\n",
       " 'trip_distance',\n",
       " 'RatecodeID',\n",
       " 'store_and_fwd_flag',\n",
       " 'PULocationID',\n",
       " 'DOLocationID',\n",
       " 'payment_type',\n",
       " 'fare_amount',\n",
       " 'extra',\n",
       " 'mta_tax',\n",
       " 'tip_amount',\n",
       " 'tolls_amount',\n",
       " 'improvement_surcharge',\n",
       " 'total_amount',\n",
       " 'congestion_surcharge']"
      ]
     },
     "execution_count": 28,
     "metadata": {},
     "output_type": "execute_result"
    }
   ],
   "source": [
    "common_columns"
   ]
  },
  {
   "cell_type": "code",
   "execution_count": 69,
   "id": "78a577dc-bf62-4600-97ec-08ac5d9654a2",
   "metadata": {},
   "outputs": [],
   "source": [
    "# ------------ Green NYC Taxi Trip ------------ #"
   ]
  },
  {
   "cell_type": "code",
   "execution_count": 35,
   "id": "a2fbc962-5a58-414f-a86e-fbd99fc0b27a",
   "metadata": {},
   "outputs": [
    {
     "name": "stdout",
     "output_type": "stream",
     "text": [
      "--2025-03-07 13:53:34--  https://d37ci6vzurychx.cloudfront.net/trip-data/green_tripdata_2024-10.parquet\n",
      "Resolving d37ci6vzurychx.cloudfront.net (d37ci6vzurychx.cloudfront.net)... 108.157.184.53, 108.157.184.33, 108.157.184.223, ...\n",
      "Connecting to d37ci6vzurychx.cloudfront.net (d37ci6vzurychx.cloudfront.net)|108.157.184.53|:443... connected.\n",
      "HTTP request sent, awaiting response... 200 OK\n",
      "Length: 1353731 (1.3M) [binary/octet-stream]\n",
      "Saving to: ‘green_tripdata_2024-10.parquet’\n",
      "\n",
      "green_tripdata_2024 100%[===================>]   1.29M  1.03MB/s    in 1.3s    \n",
      "\n",
      "2025-03-07 13:53:37 (1.03 MB/s) - ‘green_tripdata_2024-10.parquet’ saved [1353731/1353731]\n",
      "\n"
     ]
    }
   ],
   "source": [
    "!wget https://d37ci6vzurychx.cloudfront.net/trip-data/green_tripdata_2024-10.parquet"
   ]
  },
  {
   "cell_type": "code",
   "execution_count": 109,
   "id": "57ea3113-0cd0-40bf-9355-012070477bc7",
   "metadata": {},
   "outputs": [],
   "source": [
    "# file_url = 'https://d37ci6vzurychx.cloudfront.net/trip-data/green_tripdata_2024-10.parquet\n",
    "df_green_dataset = spark.read.parquet('green_tripdata_2024-10.parquet')"
   ]
  },
  {
   "cell_type": "code",
   "execution_count": 110,
   "id": "a3e300f7-aae0-44e3-acb8-138a4d320246",
   "metadata": {},
   "outputs": [],
   "source": [
    "# Convert Parquet to CSV\n",
    "def parquet_to_csv_1(parquet_path, csv_path='output.csv'):\n",
    "    # Read Parquet\n",
    "    df_green_dataset_parquet = pd.read_parquet('green_tripdata_2024-10.parquet')\n",
    "\n",
    "    # Save as CSV\n",
    "    df_green_dataset_parquet.to_csv('green_tripdata_2024-10.csv', index=False)\n",
    "    print(f\"Data saved to: {'green_tripdata_2024-10.csv'}\")"
   ]
  },
  {
   "cell_type": "code",
   "execution_count": 111,
   "id": "77a56fc1-a389-4480-9113-f9555dc48801",
   "metadata": {},
   "outputs": [
    {
     "name": "stdout",
     "output_type": "stream",
     "text": [
      "Data saved to: green_tripdata_2024-10.csv\n"
     ]
    }
   ],
   "source": [
    "parquet_to_csv_1('sample.parquet', 'sample.csv')"
   ]
  },
  {
   "cell_type": "code",
   "execution_count": 112,
   "id": "d19a84fb-96cb-46e7-94d3-ea4379eb4e53",
   "metadata": {},
   "outputs": [],
   "source": [
    "green_schema = types.StructType([\n",
    "    types.StructField(\"VendorID\", types.IntegerType(), True),\n",
    "    types.StructField(\"lpep_pickup_datetime\", types.TimestampType(), True),\n",
    "    types.StructField(\"lpep_dropoff_datetime\", types.TimestampType(), True),\n",
    "    types.StructField(\"store_and_fwd_flag\", types.StringType(), True),\n",
    "    types.StructField(\"RatecodeID\", types.IntegerType(), True),\n",
    "    types.StructField(\"PULocationID\", types.IntegerType(), True),\n",
    "    types.StructField(\"DOLocationID\", types.IntegerType(), True),\n",
    "    types.StructField(\"passenger_count\", types.IntegerType(), True),\n",
    "    types.StructField(\"trip_distance\", types.DoubleType(), True),\n",
    "    types.StructField(\"fare_amount\", types.DoubleType(), True),\n",
    "    types.StructField(\"extra\", types.DoubleType(), True),\n",
    "    types.StructField(\"mta_tax\", types.DoubleType(), True),\n",
    "    types.StructField(\"tip_amount\", types.DoubleType(), True),\n",
    "    types.StructField(\"tolls_amount\", types.DoubleType(), True),\n",
    "    types.StructField(\"ehail_fee\", types.DoubleType(), True),\n",
    "    types.StructField(\"improvement_surcharge\", types.DoubleType(), True),\n",
    "    types.StructField(\"total_amount\", types.DoubleType(), True),\n",
    "    types.StructField(\"payment_type\", types.IntegerType(), True),\n",
    "    types.StructField(\"trip_type\", types.IntegerType(), True),\n",
    "    types.StructField(\"congestion_surcharge\", types.DoubleType(), True)\n",
    "])"
   ]
  },
  {
   "cell_type": "code",
   "execution_count": 113,
   "id": "4d7007a8-efe6-4a54-a755-6d6151b7c2cf",
   "metadata": {},
   "outputs": [
    {
     "name": "stdout",
     "output_type": "stream",
     "text": [
      "+--------+--------------------+---------------------+------------------+----------+------------+------------+---------------+-------------+-----------+-----+-------+----------+------------+---------+---------------------+------------+------------+---------+--------------------+\n",
      "|VendorID|lpep_pickup_datetime|lpep_dropoff_datetime|store_and_fwd_flag|RatecodeID|PULocationID|DOLocationID|passenger_count|trip_distance|fare_amount|extra|mta_tax|tip_amount|tolls_amount|ehail_fee|improvement_surcharge|total_amount|payment_type|trip_type|congestion_surcharge|\n",
      "+--------+--------------------+---------------------+------------------+----------+------------+------------+---------------+-------------+-----------+-----+-------+----------+------------+---------+---------------------+------------+------------+---------+--------------------+\n",
      "|       2| 2024-10-01 00:52:13|  2024-10-01 01:02:39|                 N|      NULL|          75|         238|           NULL|          2.1|       12.8|  1.0|    0.5|       0.0|         0.0|     NULL|                  1.0|       18.05|        NULL|     NULL|                2.75|\n",
      "|       2| 2024-10-01 00:56:34|  2024-10-01 01:03:51|                 N|      NULL|         134|          82|           NULL|         4.86|       19.8|  1.0|    0.5|       0.0|         0.0|     NULL|                  1.0|        22.3|        NULL|     NULL|                 0.0|\n",
      "|       2| 2024-10-01 00:23:31|  2024-10-01 00:45:17|                 N|      NULL|         202|         260|           NULL|         3.77|       22.6|  1.0|    0.5|       0.0|         0.0|     NULL|                  1.0|        25.1|        NULL|     NULL|                 0.0|\n",
      "|       2| 2024-10-01 00:25:02|  2024-10-01 00:37:16|                 N|      NULL|         130|         218|           NULL|         3.11|       15.6|  1.0|    0.5|       0.0|         0.0|     NULL|                  1.0|        18.1|        NULL|     NULL|                 0.0|\n",
      "|       2| 2024-10-01 00:11:11|  2024-10-01 00:25:43|                 N|      NULL|          42|          94|           NULL|         4.48|       21.9|  1.0|    0.5|       1.0|         0.0|     NULL|                  1.0|        25.4|        NULL|     NULL|                 0.0|\n",
      "|       2| 2024-10-01 00:55:07|  2024-10-01 00:55:29|                 N|      NULL|         220|         220|           NULL|          0.0|        3.0|  1.0|    0.5|      1.65|         0.0|     NULL|                  1.0|        7.15|        NULL|     NULL|                 0.0|\n",
      "|       2| 2024-10-01 01:00:18|  2024-10-01 01:16:24|                 N|      NULL|          75|         235|           NULL|         5.72|       25.4|  1.0|    0.5|       7.0|         0.0|     NULL|                  1.0|        34.9|        NULL|     NULL|                 0.0|\n",
      "|       2| 2024-10-01 00:23:30|  2024-10-01 00:37:01|                 N|      NULL|         256|          17|           NULL|         2.39|       15.6|  1.0|    0.5|       2.0|         0.0|     NULL|                  1.0|        20.1|        NULL|     NULL|                 0.0|\n",
      "|       2| 2024-10-01 00:31:54|  2024-10-01 00:42:20|                 N|      NULL|         129|         129|           NULL|         1.36|       10.7|  1.0|    0.5|       0.0|         0.0|     NULL|                  1.0|        13.2|        NULL|     NULL|                 0.0|\n",
      "|       2| 2024-10-01 00:10:37|  2024-10-01 00:18:41|                 N|      NULL|          95|         196|           NULL|         1.53|       10.0|  1.0|    0.5|       5.0|         0.0|     NULL|                  1.0|        17.5|        NULL|     NULL|                 0.0|\n",
      "|       2| 2024-09-30 23:48:08|  2024-09-30 23:48:10|                 N|      NULL|         255|         264|           NULL|          0.0|       28.0|  0.0|    0.0|       0.3|         0.0|     NULL|                  1.0|        29.3|        NULL|     NULL|                 0.0|\n",
      "|       2| 2024-09-30 23:58:28|  2024-10-01 00:03:39|                 N|      NULL|          95|          95|           NULL|         0.77|        7.2|  1.0|    0.5|       0.0|         0.0|     NULL|                  1.0|         9.7|        NULL|     NULL|                 0.0|\n",
      "|       2| 2024-10-01 00:47:53|  2024-10-01 01:00:08|                 N|      NULL|         152|          41|           NULL|         2.06|       14.2|  1.0|    0.5|       0.0|         0.0|     NULL|                  1.0|        16.7|        NULL|     NULL|                 0.0|\n",
      "|       2| 2024-10-01 00:13:57|  2024-10-01 00:18:42|                 N|      NULL|         129|         129|           NULL|         0.61|        6.5|  1.0|    0.5|       0.0|         0.0|     NULL|                  1.0|         9.0|        NULL|     NULL|                 0.0|\n",
      "|       2| 2024-10-01 00:35:58|  2024-10-01 00:54:57|                 N|      NULL|          74|         239|           NULL|         4.15|       21.9|  1.0|    0.5|      8.14|         0.0|     NULL|                  1.0|       35.29|        NULL|     NULL|                2.75|\n",
      "|       2| 2024-10-01 00:40:21|  2024-10-01 00:40:26|                 N|      NULL|          82|          82|           NULL|          0.0|       25.0|  0.0|    0.0|       5.2|         0.0|     NULL|                  1.0|        31.2|        NULL|     NULL|                 0.0|\n",
      "|       2| 2024-09-30 23:55:48|  2024-10-01 00:06:46|                 N|      NULL|          75|         142|           NULL|         2.37|       13.5|  1.0|    0.5|      3.75|         0.0|     NULL|                  1.0|        22.5|        NULL|     NULL|                2.75|\n",
      "|       1| 2024-10-01 00:02:08|  2024-10-01 00:06:13|                 N|      NULL|          75|          74|           NULL|          1.4|        7.9|  1.0|    1.5|       2.0|         0.0|     NULL|                  1.0|        12.4|        NULL|     NULL|                 0.0|\n",
      "|       2| 2024-10-01 00:10:09|  2024-10-01 00:16:58|                 N|      NULL|          75|         238|           NULL|         1.19|        8.6|  1.0|    0.5|       0.0|         0.0|     NULL|                  1.0|        11.1|        NULL|     NULL|                 0.0|\n",
      "|       2| 2024-10-01 00:34:36|  2024-10-01 00:56:37|                 N|      NULL|         134|         226|           NULL|        10.04|       40.8|  1.0|    0.5|       0.0|         0.0|     NULL|                  1.0|        43.3|        NULL|     NULL|                 0.0|\n",
      "+--------+--------------------+---------------------+------------------+----------+------------+------------+---------------+-------------+-----------+-----+-------+----------+------------+---------+---------------------+------------+------------+---------+--------------------+\n",
      "only showing top 20 rows\n",
      "\n"
     ]
    }
   ],
   "source": [
    "df_green_dataset_csv = spark.read \\\n",
    "                             .option(\"header\", \"true\") \\\n",
    "                             .schema(green_schema) \\\n",
    "                             .csv('green_tripdata_2024-10.csv')\n",
    "df_green_dataset_csv.show()"
   ]
  },
  {
   "cell_type": "code",
   "execution_count": 114,
   "id": "73f5a982-1efd-4b82-a87f-92a6279f128c",
   "metadata": {},
   "outputs": [
    {
     "name": "stdout",
     "output_type": "stream",
     "text": [
      "+--------+-----------+------------+------------+------------+\n",
      "|vendorid|pickup_date|dropoff_date|PULocationID|DOLocationID|\n",
      "+--------+-----------+------------+------------+------------+\n",
      "|       2| 2024-10-01|  2024-10-01|          75|         238|\n",
      "|       2| 2024-10-01|  2024-10-01|         134|          82|\n",
      "|       2| 2024-10-01|  2024-10-01|         202|         260|\n",
      "|       2| 2024-10-01|  2024-10-01|         130|         218|\n",
      "|       2| 2024-10-01|  2024-10-01|          42|          94|\n",
      "|       2| 2024-10-01|  2024-10-01|         220|         220|\n",
      "|       2| 2024-10-01|  2024-10-01|          75|         235|\n",
      "|       2| 2024-10-01|  2024-10-01|         256|          17|\n",
      "|       2| 2024-10-01|  2024-10-01|         129|         129|\n",
      "|       2| 2024-10-01|  2024-10-01|          95|         196|\n",
      "|       2| 2024-09-30|  2024-09-30|         255|         264|\n",
      "|       2| 2024-09-30|  2024-10-01|          95|          95|\n",
      "|       2| 2024-10-01|  2024-10-01|         152|          41|\n",
      "|       2| 2024-10-01|  2024-10-01|         129|         129|\n",
      "|       2| 2024-10-01|  2024-10-01|          74|         239|\n",
      "|       2| 2024-10-01|  2024-10-01|          82|          82|\n",
      "|       2| 2024-09-30|  2024-10-01|          75|         142|\n",
      "|       1| 2024-10-01|  2024-10-01|          75|          74|\n",
      "|       2| 2024-10-01|  2024-10-01|          75|         238|\n",
      "|       2| 2024-10-01|  2024-10-01|         134|         226|\n",
      "+--------+-----------+------------+------------+------------+\n",
      "only showing top 20 rows\n",
      "\n"
     ]
    }
   ],
   "source": [
    "df_converted_csv_1 = df_green_dataset_csv \\\n",
    "    .withColumn('pickup_date', F.to_date(df_green_dataset_csv.lpep_pickup_datetime)) \\\n",
    "    .withColumn('dropoff_date', F.to_date(df_green_dataset_csv.lpep_dropoff_datetime)) \\\n",
    "    .select('vendorid', 'pickup_date', 'dropoff_date', 'PULocationID', 'DOLocationID') \\\n",
    "    .show()"
   ]
  },
  {
   "cell_type": "code",
   "execution_count": 115,
   "id": "de2e9c83-5b9b-4b4f-89e5-a6aef40d8079",
   "metadata": {},
   "outputs": [],
   "source": [
    "df_green_dataset.write.parquet('data/pq/green_tripdata/2024/10/', mode='overwrite')"
   ]
  },
  {
   "cell_type": "code",
   "execution_count": 116,
   "id": "23c7dc1d-a37a-467f-9490-f53b0e7328f5",
   "metadata": {},
   "outputs": [],
   "source": [
    "df_pq_1 = spark.read.parquet('data/pq/green_tripdata/2024/10/')"
   ]
  },
  {
   "cell_type": "code",
   "execution_count": 117,
   "id": "305058c5-e382-4c66-ad84-77a807eb727e",
   "metadata": {},
   "outputs": [
    {
     "data": {
      "text/plain": [
       "{'DOLocationID',\n",
       " 'PULocationID',\n",
       " 'RatecodeID',\n",
       " 'VendorID',\n",
       " 'congestion_surcharge',\n",
       " 'extra',\n",
       " 'fare_amount',\n",
       " 'improvement_surcharge',\n",
       " 'mta_tax',\n",
       " 'passenger_count',\n",
       " 'payment_type',\n",
       " 'store_and_fwd_flag',\n",
       " 'tip_amount',\n",
       " 'tolls_amount',\n",
       " 'total_amount',\n",
       " 'trip_distance'}"
      ]
     },
     "execution_count": 117,
     "metadata": {},
     "output_type": "execute_result"
    }
   ],
   "source": [
    "set(df_pq.columns) & set(df_pq_1.columns)"
   ]
  },
  {
   "cell_type": "code",
   "execution_count": 118,
   "id": "1a8f4036-dbaa-4638-8e36-99e8a8daea0a",
   "metadata": {},
   "outputs": [
    {
     "data": {
      "text/plain": [
       "['VendorID',\n",
       " 'pickup_datetime',\n",
       " 'dropoff_datetime',\n",
       " 'passenger_count',\n",
       " 'trip_distance',\n",
       " 'RatecodeID',\n",
       " 'store_and_fwd_flag',\n",
       " 'PULocationID',\n",
       " 'DOLocationID',\n",
       " 'payment_type',\n",
       " 'fare_amount',\n",
       " 'extra',\n",
       " 'mta_tax',\n",
       " 'tip_amount',\n",
       " 'tolls_amount',\n",
       " 'improvement_surcharge',\n",
       " 'total_amount',\n",
       " 'congestion_surcharge',\n",
       " 'Airport_fee']"
      ]
     },
     "execution_count": 118,
     "metadata": {},
     "output_type": "execute_result"
    }
   ],
   "source": [
    "df_pg_yellow = df_pq \\\n",
    "    .withColumnRenamed('tpep_pickup_datetime', 'pickup_datetime') \\\n",
    "    .withColumnRenamed('tpep_dropoff_datetime', 'dropoff_datetime')\n",
    "df_pg_yellow.columns"
   ]
  },
  {
   "cell_type": "code",
   "execution_count": 119,
   "id": "ac1b355c-ab66-4e69-94c5-a10dba663a25",
   "metadata": {},
   "outputs": [
    {
     "data": {
      "text/plain": [
       "['VendorID',\n",
       " 'pickup_datetime',\n",
       " 'dropoff_datetime',\n",
       " 'store_and_fwd_flag',\n",
       " 'RatecodeID',\n",
       " 'PULocationID',\n",
       " 'DOLocationID',\n",
       " 'passenger_count',\n",
       " 'trip_distance',\n",
       " 'fare_amount',\n",
       " 'extra',\n",
       " 'mta_tax',\n",
       " 'tip_amount',\n",
       " 'tolls_amount',\n",
       " 'ehail_fee',\n",
       " 'improvement_surcharge',\n",
       " 'total_amount',\n",
       " 'payment_type',\n",
       " 'trip_type',\n",
       " 'congestion_surcharge']"
      ]
     },
     "execution_count": 119,
     "metadata": {},
     "output_type": "execute_result"
    }
   ],
   "source": [
    "df_pg_green = df_pq_1 \\\n",
    "    .withColumnRenamed('lpep_pickup_datetime', 'pickup_datetime') \\\n",
    "    .withColumnRenamed('lpep_dropoff_datetime', 'dropoff_datetime')\n",
    "df_pg_green.columns"
   ]
  },
  {
   "cell_type": "code",
   "execution_count": 120,
   "id": "606dee95-d955-4148-abcf-1626f36a2af4",
   "metadata": {},
   "outputs": [],
   "source": [
    "common_columns = []\n",
    "\n",
    "for col in df_pg_green.columns:\n",
    "    if col in df_pg_yellow.columns:\n",
    "        common_columns.append(col)"
   ]
  },
  {
   "cell_type": "code",
   "execution_count": 121,
   "id": "8c446e48-ebe5-4f4b-a057-f2618119d360",
   "metadata": {},
   "outputs": [
    {
     "data": {
      "text/plain": [
       "['VendorID',\n",
       " 'pickup_datetime',\n",
       " 'dropoff_datetime',\n",
       " 'store_and_fwd_flag',\n",
       " 'RatecodeID',\n",
       " 'PULocationID',\n",
       " 'DOLocationID',\n",
       " 'passenger_count',\n",
       " 'trip_distance',\n",
       " 'fare_amount',\n",
       " 'extra',\n",
       " 'mta_tax',\n",
       " 'tip_amount',\n",
       " 'tolls_amount',\n",
       " 'improvement_surcharge',\n",
       " 'total_amount',\n",
       " 'payment_type',\n",
       " 'congestion_surcharge']"
      ]
     },
     "execution_count": 121,
     "metadata": {},
     "output_type": "execute_result"
    }
   ],
   "source": [
    "common_columns"
   ]
  },
  {
   "cell_type": "code",
   "execution_count": 122,
   "id": "8cd10ff5-98a9-46ad-b709-98b78eb826c2",
   "metadata": {},
   "outputs": [],
   "source": [
    "df_green_temp = \\\n",
    "    df_pg_green \\\n",
    "    .select(common_columns) \\\n",
    "    .withColumn('service_type', F.lit('green'))"
   ]
  },
  {
   "cell_type": "code",
   "execution_count": 123,
   "id": "1b1e754a-b0e8-4706-b4fc-ccb6b20d4eed",
   "metadata": {},
   "outputs": [],
   "source": [
    "df_yellow_temp = \\\n",
    "    df_pg_yellow \\\n",
    "    .select(common_columns) \\\n",
    "    .withColumn('service_type', F.lit('yellow'))"
   ]
  },
  {
   "cell_type": "code",
   "execution_count": 124,
   "id": "891e77b0-a514-4aa9-9af6-8e9b1674b1de",
   "metadata": {},
   "outputs": [],
   "source": [
    "df_nyc_taxi_data = df_green_temp.unionAll(df_yellow_temp)"
   ]
  },
  {
   "cell_type": "code",
   "execution_count": 125,
   "id": "650cb691-61b8-4abe-b7a1-9f1c3e3b15b7",
   "metadata": {},
   "outputs": [
    {
     "name": "stdout",
     "output_type": "stream",
     "text": [
      "+------------+-------+\n",
      "|service_type|  count|\n",
      "+------------+-------+\n",
      "|       green|  56147|\n",
      "|      yellow|3833771|\n",
      "+------------+-------+\n",
      "\n"
     ]
    }
   ],
   "source": [
    "df_nyc_taxi_data.groupBy('service_type').count().show()"
   ]
  },
  {
   "cell_type": "code",
   "execution_count": 126,
   "id": "5b83a1b1-7c28-4d02-8a9c-ead10d77f55d",
   "metadata": {},
   "outputs": [],
   "source": [
    "# Spark/PySpark SQL"
   ]
  },
  {
   "cell_type": "code",
   "execution_count": 129,
   "id": "f1cc21d5-b16f-4ccc-901f-ae1da4a6e477",
   "metadata": {},
   "outputs": [],
   "source": [
    "df_nyc_taxi_data.registerTempTable('nyc_taxi_data')"
   ]
  },
  {
   "cell_type": "code",
   "execution_count": 130,
   "id": "aafb8e81-0e07-4029-a6b5-f74dd8f5190a",
   "metadata": {},
   "outputs": [
    {
     "name": "stdout",
     "output_type": "stream",
     "text": [
      "Schema:\n",
      "root\n",
      " |-- VendorID: integer (nullable = true)\n",
      " |-- pickup_datetime: timestamp_ntz (nullable = true)\n",
      " |-- dropoff_datetime: timestamp_ntz (nullable = true)\n",
      " |-- store_and_fwd_flag: string (nullable = true)\n",
      " |-- RatecodeID: long (nullable = true)\n",
      " |-- PULocationID: integer (nullable = true)\n",
      " |-- DOLocationID: integer (nullable = true)\n",
      " |-- passenger_count: long (nullable = true)\n",
      " |-- trip_distance: double (nullable = true)\n",
      " |-- fare_amount: double (nullable = true)\n",
      " |-- extra: double (nullable = true)\n",
      " |-- mta_tax: double (nullable = true)\n",
      " |-- tip_amount: double (nullable = true)\n",
      " |-- tolls_amount: double (nullable = true)\n",
      " |-- improvement_surcharge: double (nullable = true)\n",
      " |-- total_amount: double (nullable = true)\n",
      " |-- payment_type: long (nullable = true)\n",
      " |-- congestion_surcharge: double (nullable = true)\n",
      " |-- service_type: string (nullable = false)\n",
      "\n"
     ]
    }
   ],
   "source": [
    "# Show the schema and sample data\n",
    "print(\"Schema:\")\n",
    "df_nyc_taxi_data.printSchema()"
   ]
  },
  {
   "cell_type": "code",
   "execution_count": 131,
   "id": "5029c3e8-42b9-4f78-924a-0146fb776b3c",
   "metadata": {},
   "outputs": [
    {
     "name": "stdout",
     "output_type": "stream",
     "text": [
      "+------------+-------+\n",
      "|service_type| Type_N|\n",
      "+------------+-------+\n",
      "|       green|  56147|\n",
      "|      yellow|3833771|\n",
      "+------------+-------+\n",
      "\n"
     ]
    }
   ],
   "source": [
    "spark.sql(\"\"\"\n",
    "SELECT\n",
    "    service_type,\n",
    "    count(1) as Type_N\n",
    "FROM\n",
    "    nyc_taxi_data\n",
    "GROUP BY\n",
    "    service_type;\n",
    "\"\"\").show()"
   ]
  },
  {
   "cell_type": "code",
   "execution_count": 132,
   "id": "1ca8ea89-8424-4a6f-9ea9-4c653d930a5e",
   "metadata": {},
   "outputs": [],
   "source": [
    "df_nyc_taxi_reveneue = spark.sql(\"\"\"\n",
    "SELECT \n",
    "    -- Reveneue grouping \n",
    "    PULocationID AS revenue_zone,\n",
    "    date_trunc('month', pickup_datetime) AS revenue_month, \n",
    "    service_type, \n",
    "\n",
    "    -- Revenue calculation \n",
    "    SUM(fare_amount) AS revenue_monthly_fare,\n",
    "    SUM(extra) AS revenue_monthly_extra,\n",
    "    SUM(mta_tax) AS revenue_monthly_mta_tax,\n",
    "    SUM(tip_amount) AS revenue_monthly_tip_amount,\n",
    "    SUM(tolls_amount) AS revenue_monthly_tolls_amount,\n",
    "    SUM(improvement_surcharge) AS revenue_monthly_improvement_surcharge,\n",
    "    SUM(total_amount) AS revenue_monthly_total_amount,\n",
    "    SUM(congestion_surcharge) AS revenue_monthly_congestion_surcharge,\n",
    "\n",
    "    -- Additional calculations\n",
    "    AVG(passenger_count) AS avg_montly_passenger_count,\n",
    "    AVG(trip_distance) AS avg_montly_trip_distance\n",
    "FROM\n",
    "    nyc_taxi_data\n",
    "GROUP BY\n",
    "    1, 2, 3\n",
    "\"\"\")"
   ]
  },
  {
   "cell_type": "code",
   "execution_count": 133,
   "id": "573263c7-8562-436c-a4ed-290323c60f86",
   "metadata": {},
   "outputs": [
    {
     "name": "stdout",
     "output_type": "stream",
     "text": [
      "+------------+-------------------+------------+--------------------+---------------------+-----------------------+--------------------------+----------------------------+-------------------------------------+----------------------------+------------------------------------+--------------------------+------------------------+\n",
      "|revenue_zone|      revenue_month|service_type|revenue_monthly_fare|revenue_monthly_extra|revenue_monthly_mta_tax|revenue_monthly_tip_amount|revenue_monthly_tolls_amount|revenue_monthly_improvement_surcharge|revenue_monthly_total_amount|revenue_monthly_congestion_surcharge|avg_montly_passenger_count|avg_montly_trip_distance|\n",
      "+------------+-------------------+------------+--------------------+---------------------+-----------------------+--------------------------+----------------------------+-------------------------------------+----------------------------+------------------------------------+--------------------------+------------------------+\n",
      "|          28|2024-10-01 00:00:00|       green|               766.1|                  6.0|                    7.0|                      64.7|                       20.82|                                 23.0|           895.8700000000001|                                8.25|        1.2272727272727273|      4.6460869565217395|\n",
      "|         174|2024-10-01 00:00:00|       green|               345.0|                 12.0|                    6.5|        31.979999999999997|                         0.0|                                 10.0|          403.47999999999996|                                 0.0|                       1.0|                   5.111|\n",
      "|          74|2024-10-01 00:00:00|       green|  201620.74999999895|             10268.75|                 8278.0|         36627.69000000033|           2914.300000000019|                   13081.199999999932|            283448.439999999|                             13740.0|        1.2798075477371824|      2.2932337159040093|\n",
      "|          43|2024-10-01 00:00:00|       green|   45103.95000000001|               3119.5|                 1545.5|                   8798.52|          263.27000000000004|                    2788.500000000001|           67226.74000000018|                             6042.25|        1.3701716738197425|      2.3467697228144972|\n",
      "|          51|2024-10-01 00:00:00|       green|  229.97000000000003|                  0.0|                    7.0|                       0.0|                       20.82|                                  6.0|                      259.79|                                 0.0|                       1.0|     0.29833333333333334|\n",
      "|         217|2024-10-01 00:00:00|       green|  415.53000000000003|                  1.0|                    6.5|                     39.25|                         0.0|                                  9.0|          471.03000000000003|                                2.75|                      1.25|                   4.657|\n",
      "|         141|2024-10-01 00:00:00|       green|               185.4|                  2.0|                    7.0|                      8.84|          10.120000000000001|                                  6.0|          220.35999999999999|                                 5.0|                       1.0|      0.7633333333333333|\n",
      "|         244|2024-10-01 00:00:00|       green|   36615.60000000003|               1432.0|                  924.0|         5625.070000000002|           553.8200000000005|                               1337.6|           47720.08999999999|                             1933.25|        1.1325115562403698|       5.391282991202349|\n",
      "|         100|2024-10-01 00:00:00|       green|                90.6|                  2.5|                    3.5|                      3.02|                        3.18|                                  3.0|          106.30000000000001|                                 2.5|                       1.0|      0.4266666666666667|\n",
      "|         210|2024-10-01 00:00:00|       green|              2666.3|                183.5|                  212.0|        277.79999999999995|          19.080000000000002|                                200.0|          3437.6800000000007|                                 0.0|                     1.025|      1.5044499999999996|\n",
      "|          75|2024-09-01 00:00:00|       green|                13.5|                  1.0|                    0.5|                      3.75|                         0.0|                                  1.0|                        22.5|                                2.75|                       5.0|                    2.37|\n",
      "|          72|2024-10-01 00:00:00|       green|   473.1400000000001|                 4.75|                   14.5|                       4.0|                         0.0|                                 17.0|           506.3900000000001|                                2.75|        1.0714285714285714|       2.985882352941177|\n",
      "|          54|2024-10-01 00:00:00|       green|               887.8|                 18.5|                    4.5|                    147.94|                       12.75|                                 14.0|                     1086.24|                                2.75|                    1.6875|                 4.22625|\n",
      "|          63|2024-10-01 00:00:00|       green|               519.5|                  0.0|                   10.0|                      10.0|                        34.7|                                  9.0|                       577.2|                                 0.0|                       1.0|                   6.198|\n",
      "|          62|2024-10-01 00:00:00|       green|  391.78999999999996|                 6.25|                   12.0|                     22.02|                        6.94|                                 14.0|                       447.0|                                2.75|                      1.25|       2.402142857142857|\n",
      "|         215|2024-10-01 00:00:00|       green|               449.6|                  4.5|                    6.5|                      17.6|                         0.0|                                 20.0|          500.95000000000005|                                2.75|                       1.2|                  3.2765|\n",
      "|          55|2024-10-01 00:00:00|       green|   9987.219999999996|                83.25|                  147.5|        155.40999999999997|          104.09999999999998|                                230.0|          10682.979999999998|                               19.25|        1.0087719298245614|       5.699270386266091|\n",
      "|          37|2024-10-01 00:00:00|       green|   848.1500000000001|                  2.5|                   15.5|        112.59000000000002|                       13.88|                                 26.0|          1023.6199999999999|                                2.75|                       1.8|       4.668214285714286|\n",
      "|         127|2024-10-01 00:00:00|       green|              995.33|                 17.5|                   22.0|                     40.89|                       20.82|                                 45.0|                     1167.79|                                22.0|        1.2894736842105263|       4.843999999999999|\n",
      "|          34|2024-10-01 00:00:00|       green|  2464.4700000000003|                 19.5|                   14.5|        285.64000000000004|                         0.0|                                 52.0|                     2910.11|                                71.5|        1.5961538461538463|      4.0942592592592595|\n",
      "+------------+-------------------+------------+--------------------+---------------------+-----------------------+--------------------------+----------------------------+-------------------------------------+----------------------------+------------------------------------+--------------------------+------------------------+\n",
      "only showing top 20 rows\n",
      "\n"
     ]
    }
   ],
   "source": [
    "df_nyc_taxi_reveneue.show()"
   ]
  },
  {
   "cell_type": "code",
   "execution_count": 134,
   "id": "f5c0d0e3-9055-43f5-80fc-3659c29e464c",
   "metadata": {},
   "outputs": [],
   "source": [
    "df_nyc_taxi_reveneue.coalesce(1).write.parquet('data/pq/report/tripdata_revenue/', mode='overwrite')"
   ]
  },
  {
   "cell_type": "code",
   "execution_count": null,
   "id": "ec71994e-e400-412d-b878-b29946399dc8",
   "metadata": {},
   "outputs": [],
   "source": []
  }
 ],
 "metadata": {
  "kernelspec": {
   "display_name": "Python 3 (ipykernel)",
   "language": "python",
   "name": "python3"
  },
  "language_info": {
   "codemirror_mode": {
    "name": "ipython",
    "version": 3
   },
   "file_extension": ".py",
   "mimetype": "text/x-python",
   "name": "python",
   "nbconvert_exporter": "python",
   "pygments_lexer": "ipython3",
   "version": "3.11.6"
  }
 },
 "nbformat": 4,
 "nbformat_minor": 5
}
